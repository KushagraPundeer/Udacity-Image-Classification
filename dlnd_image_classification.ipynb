{
 "cells": [
  {
   "cell_type": "markdown",
   "metadata": {
    "collapsed": true
   },
   "source": [
    "# Image Classification\n",
    "In this project, you'll classify images from the [CIFAR-10 dataset](https://www.cs.toronto.edu/~kriz/cifar.html).  The dataset consists of airplanes, dogs, cats, and other objects. You'll preprocess the images, then train a convolutional neural network on all the samples. The images need to be normalized and the labels need to be one-hot encoded.  You'll get to apply what you learned and build a convolutional, max pooling, dropout, and fully connected layers.  At the end, you'll get to see your neural network's predictions on the sample images.\n",
    "## Get the Data\n",
    "Run the following cell to download the [CIFAR-10 dataset for python](https://www.cs.toronto.edu/~kriz/cifar-10-python.tar.gz)."
   ]
  },
  {
   "cell_type": "code",
   "execution_count": 1,
   "metadata": {},
   "outputs": [
    {
     "name": "stdout",
     "output_type": "stream",
     "text": [
      "All files found!\n"
     ]
    }
   ],
   "source": [
    "\"\"\"\n",
    "DON'T MODIFY ANYTHING IN THIS CELL THAT IS BELOW THIS LINE\n",
    "\"\"\"\n",
    "from urllib.request import urlretrieve\n",
    "from os.path import isfile, isdir\n",
    "from tqdm import tqdm\n",
    "import problem_unittests as tests\n",
    "import tarfile\n",
    "\n",
    "cifar10_dataset_folder_path = 'cifar-10-batches-py'\n",
    "\n",
    "# Use Floyd's cifar-10 dataset if present\n",
    "floyd_cifar10_location = '/input/cifar-10/python.tar.gz'\n",
    "if isfile(floyd_cifar10_location):\n",
    "    tar_gz_path = floyd_cifar10_location\n",
    "else:\n",
    "    tar_gz_path = 'cifar-10-python.tar.gz'\n",
    "\n",
    "class DLProgress(tqdm):\n",
    "    last_block = 0\n",
    "\n",
    "    def hook(self, block_num=1, block_size=1, total_size=None):\n",
    "        self.total = total_size\n",
    "        self.update((block_num - self.last_block) * block_size)\n",
    "        self.last_block = block_num\n",
    "\n",
    "if not isfile(tar_gz_path):\n",
    "    with DLProgress(unit='B', unit_scale=True, miniters=1, desc='CIFAR-10 Dataset') as pbar:\n",
    "        urlretrieve(\n",
    "            'https://www.cs.toronto.edu/~kriz/cifar-10-python.tar.gz',\n",
    "            tar_gz_path,\n",
    "            pbar.hook)\n",
    "\n",
    "if not isdir(cifar10_dataset_folder_path):\n",
    "    with tarfile.open(tar_gz_path) as tar:\n",
    "        tar.extractall()\n",
    "        tar.close()\n",
    "\n",
    "\n",
    "tests.test_folder_path(cifar10_dataset_folder_path)"
   ]
  },
  {
   "cell_type": "markdown",
   "metadata": {},
   "source": [
    "## Explore the Data\n",
    "The dataset is broken into batches to prevent your machine from running out of memory.  The CIFAR-10 dataset consists of 5 batches, named `data_batch_1`, `data_batch_2`, etc.. Each batch contains the labels and images that are one of the following:\n",
    "* airplane\n",
    "* automobile\n",
    "* bird\n",
    "* cat\n",
    "* deer\n",
    "* dog\n",
    "* frog\n",
    "* horse\n",
    "* ship\n",
    "* truck\n",
    "\n",
    "Understanding a dataset is part of making predictions on the data.  Play around with the code cell below by changing the `batch_id` and `sample_id`. The `batch_id` is the id for a batch (1-5). The `sample_id` is the id for a image and label pair in the batch.\n",
    "\n",
    "Ask yourself \"What are all possible labels?\", \"What is the range of values for the image data?\", \"Are the labels in order or random?\".  Answers to questions like these will help you preprocess the data and end up with better predictions."
   ]
  },
  {
   "cell_type": "code",
   "execution_count": 2,
   "metadata": {},
   "outputs": [
    {
     "name": "stdout",
     "output_type": "stream",
     "text": [
      "\n",
      "Stats of batch 1:\n",
      "Samples: 10000\n",
      "Label Counts: {0: 1005, 1: 974, 2: 1032, 3: 1016, 4: 999, 5: 937, 6: 1030, 7: 1001, 8: 1025, 9: 981}\n",
      "First 20 Labels: [6, 9, 9, 4, 1, 1, 2, 7, 8, 3, 4, 7, 7, 2, 9, 9, 9, 3, 2, 6]\n",
      "\n",
      "Example of Image 3:\n",
      "Image - Min Value: 4 Max Value: 234\n",
      "Image - Shape: (32, 32, 3)\n",
      "Label - Label Id: 4 Name: deer\n"
     ]
    },
    {
     "data": {
      "image/png": "[encoded data removed]",
      "text/plain": [
       "<matplotlib.figure.Figure at 0x7f891e081080>"
      ]
     },
     "metadata": {
      "image/png": {
       "height": 250,
       "width": 253
      }
     },
     "output_type": "display_data"
    }
   ],
   "source": [
    "%matplotlib inline\n",
    "%config InlineBackend.figure_format = 'retina'\n",
    "\n",
    "import helper\n",
    "import numpy as np\n",
    "\n",
    "# Explore the dataset\n",
    "batch_id = 1\n",
    "sample_id = 3\n",
    "helper.display_stats(cifar10_dataset_folder_path, batch_id, sample_id)"
   ]
  },
  {
   "cell_type": "markdown",
   "metadata": {},
   "source": [
    "## Implement Preprocess Functions\n",
    "### Normalize\n",
    "In the cell below, implement the `normalize` function to take in image data, `x`, and return it as a normalized Numpy array. The values should be in the range of 0 to 1, inclusive.  The return object should be the same shape as `x`."
   ]
  },
  {
   "cell_type": "code",
   "execution_count": 3,
   "metadata": {},
   "outputs": [
    {
     "name": "stdout",
     "output_type": "stream",
     "text": [
      "Tests Passed\n"
     ]
    }
   ],
   "source": [
    "def normalize(x):\n",
    "    \"\"\"\n",
    "    Normalize a list of sample image data in the range of 0 to 1\n",
    "    : x: List of image data.  The image shape is (32, 32, 3)\n",
    "    : return: Numpy array of normalize data\n",
    "    \"\"\"\n",
    "    # TODO: Implement Function\n",
    "    return x / 255\n",
    "\n",
    "\n",
    "\"\"\"\n",
    "DON'T MODIFY ANYTHING IN THIS CELL THAT IS BELOW THIS LINE\n",
    "\"\"\"\n",
    "tests.test_normalize(normalize)"
   ]
  },
  {
   "cell_type": "markdown",
   "metadata": {},
   "source": [
    "### One-hot encode\n",
    "Just like the previous code cell, you'll be implementing a function for preprocessing.  This time, you'll implement the `one_hot_encode` function. The input, `x`, are a list of labels.  Implement the function to return the list of labels as One-Hot encoded Numpy array.  The possible values for labels are 0 to 9. The one-hot encoding function should return the same encoding for each value between each call to `one_hot_encode`.  Make sure to save the map of encodings outside the function.\n",
    "\n",
    "Hint: Don't reinvent the wheel."
   ]
  },
  {
   "cell_type": "code",
   "execution_count": 4,
   "metadata": {},
   "outputs": [
    {
     "name": "stdout",
     "output_type": "stream",
     "text": [
      "Tests Passed\n"
     ]
    }
   ],
   "source": [
    "from sklearn import preprocessing\n",
    "\n",
    "lb = preprocessing.LabelBinarizer()\n",
    "lb.fit(range(10))\n",
    "\n",
    "\n",
    "def one_hot_encode(x):\n",
    "    \"\"\"\n",
    "    One hot encode a list of sample labels. Return a one-hot encoded vector for each label.\n",
    "    : x: List of sample Labels\n",
    "    : return: Numpy array of one-hot encoded labels\n",
    "    \"\"\"\n",
    "    # TODO: Implement Function\n",
    "    return lb.transform(x)\n",
    "\n",
    "\n",
    "\"\"\"\n",
    "DON'T MODIFY ANYTHING IN THIS CELL THAT IS BELOW THIS LINE\n",
    "\"\"\"\n",
    "tests.test_one_hot_encode(one_hot_encode)"
   ]
  },
  {
   "cell_type": "markdown",
   "metadata": {},
   "source": [
    "### Randomize Data\n",
    "As you saw from exploring the data above, the order of the samples are randomized.  It doesn't hurt to randomize it again, but you don't need to for this dataset."
   ]
  },
  {
   "cell_type": "markdown",
   "metadata": {},
   "source": [
    "## Preprocess all the data and save it\n",
    "Running the code cell below will preprocess all the CIFAR-10 data and save it to file. The code below also uses 10% of the training data for validation."
   ]
  },
  {
   "cell_type": "code",
   "execution_count": 5,
   "metadata": {
    "collapsed": true
   },
   "outputs": [],
   "source": [
    "\"\"\"\n",
    "DON'T MODIFY ANYTHING IN THIS CELL\n",
    "\"\"\"\n",
    "# Preprocess Training, Validation, and Testing Data\n",
    "helper.preprocess_and_save_data(cifar10_dataset_folder_path, normalize, one_hot_encode)"
   ]
  },
  {
   "cell_type": "markdown",
   "metadata": {},
   "source": [
    "# Check Point\n",
    "This is your first checkpoint.  If you ever decide to come back to this notebook or have to restart the notebook, you can start from here.  The preprocessed data has been saved to disk."
   ]
  },
  {
   "cell_type": "code",
   "execution_count": 6,
   "metadata": {
    "collapsed": true
   },
   "outputs": [],
   "source": [
    "\"\"\"\n",
    "DON'T MODIFY ANYTHING IN THIS CELL\n",
    "\"\"\"\n",
    "import pickle\n",
    "import problem_unittests as tests\n",
    "import helper\n",
    "\n",
    "# Load the Preprocessed Validation data\n",
    "valid_features, valid_labels = pickle.load(open('preprocess_validation.p', mode='rb'))"
   ]
  },
  {
   "cell_type": "markdown",
   "metadata": {},
   "source": [
    "## Build the network\n",
    "For the neural network, you'll build each layer into a function.  Most of the code you've seen has been outside of functions. To test your code more thoroughly, we require that you put each layer in a function.  This allows us to give you better feedback and test for simple mistakes using our unittests before you submit your project.\n",
    "\n",
    ">**Note:** If you're finding it hard to dedicate enough time for this course each week, we've provided a small shortcut to this part of the project. In the next couple of problems, you'll have the option to use classes from the [TensorFlow Layers](https://www.tensorflow.org/api_docs/python/tf/layers) or [TensorFlow Layers (contrib)](https://www.tensorflow.org/api_guides/python/contrib.layers) packages to build each layer, except the layers you build in the \"Convolutional and Max Pooling Layer\" section.  TF Layers is similar to Keras's and TFLearn's abstraction to layers, so it's easy to pickup.\n",
    "\n",
    ">However, if you would like to get the most out of this course, try to solve all the problems _without_ using anything from the TF Layers packages. You **can** still use classes from other packages that happen to have the same name as ones you find in TF Layers! For example, instead of using the TF Layers version of the `conv2d` class, [tf.layers.conv2d](https://www.tensorflow.org/api_docs/python/tf/layers/conv2d), you would want to use the TF Neural Network version of `conv2d`, [tf.nn.conv2d](https://www.tensorflow.org/api_docs/python/tf/nn/conv2d). \n",
    "\n",
    "Let's begin!\n",
    "\n",
    "### Input\n",
    "The neural network needs to read the image data, one-hot encoded labels, and dropout keep probability. Implement the following functions\n",
    "* Implement `neural_net_image_input`\n",
    " * Return a [TF Placeholder](https://www.tensorflow.org/api_docs/python/tf/placeholder)\n",
    " * Set the shape using `image_shape` with batch size set to `None`.\n",
    " * Name the TensorFlow placeholder \"x\" using the TensorFlow `name` parameter in the [TF Placeholder](https://www.tensorflow.org/api_docs/python/tf/placeholder).\n",
    "* Implement `neural_net_label_input`\n",
    " * Return a [TF Placeholder](https://www.tensorflow.org/api_docs/python/tf/placeholder)\n",
    " * Set the shape using `n_classes` with batch size set to `None`.\n",
    " * Name the TensorFlow placeholder \"y\" using the TensorFlow `name` parameter in the [TF Placeholder](https://www.tensorflow.org/api_docs/python/tf/placeholder).\n",
    "* Implement `neural_net_keep_prob_input`\n",
    " * Return a [TF Placeholder](https://www.tensorflow.org/api_docs/python/tf/placeholder) for dropout keep probability.\n",
    " * Name the TensorFlow placeholder \"keep_prob\" using the TensorFlow `name` parameter in the [TF Placeholder](https://www.tensorflow.org/api_docs/python/tf/placeholder).\n",
    "\n",
    "These names will be used at the end of the project to load your saved model.\n",
    "\n",
    "Note: `None` for shapes in TensorFlow allow for a dynamic size."
   ]
  },
  {
   "cell_type": "code",
   "execution_count": 7,
   "metadata": {},
   "outputs": [
    {
     "name": "stdout",
     "output_type": "stream",
     "text": [
      "Image Input Tests Passed.\n",
      "Label Input Tests Passed.\n",
      "Keep Prob Tests Passed.\n"
     ]
    }
   ],
   "source": [
    "import tensorflow as tf\n",
    "\n",
    "def neural_net_image_input(image_shape):\n",
    "    \"\"\"\n",
    "    Return a Tensor for a batch of image input\n",
    "    : image_shape: Shape of the images\n",
    "    : return: Tensor for image input.\n",
    "    \"\"\"\n",
    "    # TODO: Implement Function\n",
    "    image_height = image_shape[0]\n",
    "    image_width = image_shape[1]\n",
    "    color_channels = image_shape[2]\n",
    "    return tf.placeholder(tf.float32, shape=[None, image_height, image_width, color_channels], name=\"x\")\n",
    "\n",
    "\n",
    "def neural_net_label_input(n_classes):\n",
    "    \"\"\"\n",
    "    Return a Tensor for a batch of label input\n",
    "    : n_classes: Number of classes\n",
    "    : return: Tensor for label input.\n",
    "    \"\"\"\n",
    "    # TODO: Implement Function\n",
    "    return tf.placeholder(tf.float32, shape=[None, n_classes], name=\"y\")\n",
    "    \n",
    "\n",
    "\n",
    "def neural_net_keep_prob_input():\n",
    "    \"\"\"\n",
    "    Return a Tensor for keep probability\n",
    "    : return: Tensor for keep probability.\n",
    "    \"\"\"\n",
    "    # TODO: Implement Function\n",
    "    return tf.placeholder(tf.float32, name=\"keep_prob\")\n",
    "\n",
    "\n",
    "\"\"\"\n",
    "DON'T MODIFY ANYTHING IN THIS CELL THAT IS BELOW THIS LINE\n",
    "\"\"\"\n",
    "tf.reset_default_graph()\n",
    "tests.test_nn_image_inputs(neural_net_image_input)\n",
    "tests.test_nn_label_inputs(neural_net_label_input)\n",
    "tests.test_nn_keep_prob_inputs(neural_net_keep_prob_input)"
   ]
  },
  {
   "cell_type": "markdown",
   "metadata": {},
   "source": [
    "### Convolution and Max Pooling Layer\n",
    "Convolution layers have a lot of success with images. For this code cell, you should implement the function `conv2d_maxpool` to apply convolution then max pooling:\n",
    "* Create the weight and bias using `conv_ksize`, `conv_num_outputs` and the shape of `x_tensor`.\n",
    "* Apply a convolution to `x_tensor` using weight and `conv_strides`.\n",
    " * We recommend you use same padding, but you're welcome to use any padding.\n",
    "* Add bias\n",
    "* Add a nonlinear activation to the convolution.\n",
    "* Apply Max Pooling using `pool_ksize` and `pool_strides`.\n",
    " * We recommend you use same padding, but you're welcome to use any padding.\n",
    "\n",
    "**Note:** You **can't** use [TensorFlow Layers](https://www.tensorflow.org/api_docs/python/tf/layers) or [TensorFlow Layers (contrib)](https://www.tensorflow.org/api_guides/python/contrib.layers) for **this** layer, but you can still use TensorFlow's [Neural Network](https://www.tensorflow.org/api_docs/python/tf/nn) package. You may still use the shortcut option for all the **other** layers."
   ]
  },
  {
   "cell_type": "code",
   "execution_count": 8,
   "metadata": {},
   "outputs": [
    {
     "name": "stdout",
     "output_type": "stream",
     "text": [
      "Tests Passed\n"
     ]
    }
   ],
   "source": [
    "def conv2d_maxpool(x_tensor, conv_num_outputs, conv_ksize, conv_strides, pool_ksize, pool_strides):\n",
    "    \"\"\"\n",
    "    Apply convolution then max pooling to x_tensor\n",
    "    :param x_tensor: TensorFlow Tensor\n",
    "    :param conv_num_outputs: Number of outputs for the convolutional layer\n",
    "    :param conv_ksize: kernal size 2-D Tuple for the convolutional layer\n",
    "    :param conv_strides: Stride 2-D Tuple for convolution\n",
    "    :param pool_ksize: kernal size 2-D Tuple for pool\n",
    "    :param pool_strides: Stride 2-D Tuple for pool\n",
    "    : return: A tensor that represents convolution and max pooling of x_tensor\n",
    "    \"\"\"\n",
    "    # TODO: Implement Function\n",
    "    \n",
    "    # Weights\n",
    "    W = tf.Variable(tf.random_normal([conv_ksize[0], conv_ksize[1], x_tensor.get_shape().as_list()[3], conv_num_outputs]))\n",
    "    # Bias\n",
    "    b = tf.Variable(tf.zeros(conv_num_outputs))\n",
    "    \n",
    "    #Apply Convolution\n",
    "    CL = tf.nn.conv2d(x_tensor, W, [1, conv_strides[0], conv_strides[1], 1], padding=\"SAME\")\n",
    "    \n",
    "    #Add Bias\n",
    "    CL = tf.nn.bias_add(CL, b)\n",
    "    \n",
    "    #Apply activation function ReLu\n",
    "    CL = tf.nn.relu(CL)\n",
    "    \n",
    "    # Apply MAX - POOLING\n",
    "    CL = tf.nn.max_pool(CL, [1, pool_ksize[0], pool_ksize[1], 1], [1, pool_strides[0], pool_strides[1], 1], \\\n",
    "                                padding='SAME')\n",
    "    return CL\n",
    "\n",
    "\n",
    "\"\"\"\n",
    "DON'T MODIFY ANYTHING IN THIS CELL THAT IS BELOW THIS LINE\n",
    "\"\"\"\n",
    "tests.test_con_pool(conv2d_maxpool)"
   ]
  },
  {
   "cell_type": "markdown",
   "metadata": {},
   "source": [
    "### Flatten Layer\n",
    "Implement the `flatten` function to change the dimension of `x_tensor` from a 4-D tensor to a 2-D tensor.  The output should be the shape (*Batch Size*, *Flattened Image Size*). Shortcut option: you can use classes from the [TensorFlow Layers](https://www.tensorflow.org/api_docs/python/tf/layers) or [TensorFlow Layers (contrib)](https://www.tensorflow.org/api_guides/python/contrib.layers) packages for this layer. For more of a challenge, only use other TensorFlow packages."
   ]
  },
  {
   "cell_type": "code",
   "execution_count": 9,
   "metadata": {},
   "outputs": [
    {
     "name": "stdout",
     "output_type": "stream",
     "text": [
      "Tests Passed\n"
     ]
    }
   ],
   "source": [
    "def flatten(x_tensor):\n",
    "    \"\"\"\n",
    "    Flatten x_tensor to (Batch Size, Flattened Image Size)\n",
    "    : x_tensor: A tensor of size (Batch Size, ...), where ... are the image dimensions.\n",
    "    : return: A tensor of size (Batch Size, Flattened Image Size).\n",
    "    \"\"\"\n",
    "    # TODO: Implement Function\n",
    "    dimension_list = x_tensor.get_shape().as_list()\n",
    "    \n",
    "    return tf.reshape(x_tensor, [-1, int(dimension_list[1]* dimension_list[2] * dimension_list[3])])\n",
    "\n",
    "\n",
    "\"\"\"\n",
    "DON'T MODIFY ANYTHING IN THIS CELL THAT IS BELOW THIS LINE\n",
    "\"\"\"\n",
    "tests.test_flatten(flatten)"
   ]
  },
  {
   "cell_type": "markdown",
   "metadata": {},
   "source": [
    "### Fully-Connected Layer\n",
    "Implement the `fully_conn` function to apply a fully connected layer to `x_tensor` with the shape (*Batch Size*, *num_outputs*). Shortcut option: you can use classes from the [TensorFlow Layers](https://www.tensorflow.org/api_docs/python/tf/layers) or [TensorFlow Layers (contrib)](https://www.tensorflow.org/api_guides/python/contrib.layers) packages for this layer. For more of a challenge, only use other TensorFlow packages."
   ]
  },
  {
   "cell_type": "code",
   "execution_count": 10,
   "metadata": {},
   "outputs": [
    {
     "name": "stdout",
     "output_type": "stream",
     "text": [
      "Tests Passed\n"
     ]
    }
   ],
   "source": [
    "def fully_conn(x_tensor, num_outputs):\n",
    "    \"\"\"\n",
    "    Apply a fully connected layer to x_tensor using weight and bias\n",
    "    : x_tensor: A 2-D tensor where the first dimension is batch size.\n",
    "    : num_outputs: The number of output that the new tensor should be.\n",
    "    : return: A 2-D tensor where the second dimension is num_outputs.\n",
    "    \"\"\"\n",
    "    # TODO: Implement Function\n",
    "    \n",
    "    # Shape as List\n",
    "    Shape_List = x_tensor.get_shape().as_list() \n",
    "    # Weight - W\n",
    "    W = tf.Variable(tf.truncated_normal([Shape_List[-1], num_outputs], stddev=0.01))\n",
    "    # Bias - b\n",
    "    b = tf.Variable(tf.zeros(num_outputs))\n",
    "    \n",
    "    # Apply Relu and return 2-D tensor with second dimension as num_outputs.\n",
    "    return tf.nn.relu(tf.add(tf.matmul(x_tensor, W), b))\n",
    "\n",
    "\n",
    "\"\"\"\n",
    "DON'T MODIFY ANYTHING IN THIS CELL THAT IS BELOW THIS LINE\n",
    "\"\"\"\n",
    "tests.test_fully_conn(fully_conn)"
   ]
  },
  {
   "cell_type": "markdown",
   "metadata": {},
   "source": [
    "### Output Layer\n",
    "Implement the `output` function to apply a fully connected layer to `x_tensor` with the shape (*Batch Size*, *num_outputs*). Shortcut option: you can use classes from the [TensorFlow Layers](https://www.tensorflow.org/api_docs/python/tf/layers) or [TensorFlow Layers (contrib)](https://www.tensorflow.org/api_guides/python/contrib.layers) packages for this layer. For more of a challenge, only use other TensorFlow packages.\n",
    "\n",
    "**Note:** Activation, softmax, or cross entropy should **not** be applied to this."
   ]
  },
  {
   "cell_type": "code",
   "execution_count": 11,
   "metadata": {},
   "outputs": [
    {
     "name": "stdout",
     "output_type": "stream",
     "text": [
      "Tests Passed\n"
     ]
    }
   ],
   "source": [
    "def output(x_tensor, num_outputs):\n",
    "    \"\"\"\n",
    "    Apply a output layer to x_tensor using weight and bias\n",
    "    : x_tensor: A 2-D tensor where the first dimension is batch size.\n",
    "    : num_outputs: The number of output that the new tensor should be.\n",
    "    : return: A 2-D tensor where the second dimension is num_outputs.\n",
    "    \"\"\"\n",
    "    # TODO: Implement Function\n",
    "    \n",
    "    # Shape as a List\n",
    "    Shape_List = x_tensor.get_shape().as_list()\n",
    "    \n",
    "    # Weight - W\n",
    "    W = tf.Variable(tf.truncated_normal([Shape_List[-1], num_outputs], stddev=0.01))\n",
    "    \n",
    "    # Bias - B\n",
    "    b = tf.Variable(tf.zeros(num_outputs))\n",
    "    \n",
    "    return tf.add(tf.matmul(x_tensor, W), b)\n",
    "\n",
    "\n",
    "\"\"\"\n",
    "DON'T MODIFY ANYTHING IN THIS CELL THAT IS BELOW THIS LINE\n",
    "\"\"\"\n",
    "tests.test_output(output)"
   ]
  },
  {
   "cell_type": "markdown",
   "metadata": {},
   "source": [
    "### Create Convolutional Model\n",
    "Implement the function `conv_net` to create a convolutional neural network model. The function takes in a batch of images, `x`, and outputs logits.  Use the layers you created above to create this model:\n",
    "\n",
    "* Apply 1, 2, or 3 Convolution and Max Pool layers\n",
    "* Apply a Flatten Layer\n",
    "* Apply 1, 2, or 3 Fully Connected Layers\n",
    "* Apply an Output Layer\n",
    "* Return the output\n",
    "* Apply [TensorFlow's Dropout](https://www.tensorflow.org/api_docs/python/tf/nn/dropout) to one or more layers in the model using `keep_prob`. "
   ]
  },
  {
   "cell_type": "code",
   "execution_count": 19,
   "metadata": {},
   "outputs": [
    {
     "name": "stdout",
     "output_type": "stream",
     "text": [
      "Neural Network Built!\n"
     ]
    }
   ],
   "source": [
    "def conv_net(x, keep_prob):\n",
    "    \"\"\"\n",
    "    Create a convolutional neural network model\n",
    "    : x: Placeholder tensor that holds image data.\n",
    "    : keep_prob: Placeholder tensor that hold dropout keep probability.\n",
    "    : return: Tensor that represents logits\n",
    "    \"\"\"\n",
    "    # TODO: Apply 1, 2, or 3 Convolution and Max Pool layers\n",
    "    #    Play around with different number of outputs, kernel size and stride\n",
    "    # Function Definition from Above:\n",
    "    #    conv2d_maxpool(x_tensor, conv_num_outputs, conv_ksize, conv_strides, pool_ksize, pool_strides)\n",
    "    \n",
    "    # Variables\n",
    "    conv_num_outputs = 24\n",
    "    conv_ksize = (4, 4)\n",
    "    conv_strides = (1, 1)\n",
    "    pool_ksize = (4, 4)\n",
    "    pool_strides = (1, 1)\n",
    "    \n",
    "    \n",
    "    # Convolutional and Max Pool layers\n",
    "    con_layer = conv2d_maxpool(x, conv_num_outputs, conv_ksize, conv_strides, pool_ksize, pool_strides)\n",
    "    con_layer = tf.nn.dropout(con_layer, keep_prob=keep_prob)\n",
    "    \n",
    "\n",
    "    # TODO: Apply a Flatten Layer\n",
    "    # Function Definition from Above:\n",
    "    #   flatten(x_tensor)\n",
    "    con_layer = flatten(con_layer)\n",
    "\n",
    "    # TODO: Apply 1, 2, or 3 Fully Connected Layers\n",
    "    #    Play around with different number of outputs\n",
    "    # Function Definition from Above:\n",
    "    #   fully_conn(x_tensor, num_outputs)\n",
    "    fc_layer = fully_conn(con_layer, 384)\n",
    "    fc_layer = fully_conn(con_layer, 256)\n",
    "\n",
    "\n",
    "   \n",
    "    \n",
    "    # TODO: Apply an Output Layer\n",
    "    #    Set this to the number of classes\n",
    "    # Function Definition from Above:\n",
    "    #   output(x_tensor, num_outputs)\n",
    "    con_output = output(fc_layer, 10)\n",
    "    \n",
    "    \n",
    "    # TODO: return output\n",
    "    return con_output\n",
    "\n",
    "\n",
    "\"\"\"\n",
    "DON'T MODIFY ANYTHING IN THIS CELL THAT IS BELOW THIS LINE\n",
    "\"\"\"\n",
    "\n",
    "##############################\n",
    "## Build the Neural Network ##\n",
    "##############################\n",
    "\n",
    "# Remove previous weights, bias, inputs, etc..\n",
    "tf.reset_default_graph()\n",
    "\n",
    "# Inputs\n",
    "x = neural_net_image_input((32, 32, 3))\n",
    "y = neural_net_label_input(10)\n",
    "keep_prob = neural_net_keep_prob_input()\n",
    "\n",
    "# Model\n",
    "logits = conv_net(x, keep_prob)\n",
    "\n",
    "# Name logits Tensor, so that is can be loaded from disk after training\n",
    "logits = tf.identity(logits, name='logits')\n",
    "\n",
    "# Loss and Optimizer\n",
    "cost = tf.reduce_mean(tf.nn.softmax_cross_entropy_with_logits(logits=logits, labels=y))\n",
    "optimizer = tf.train.AdamOptimizer().minimize(cost)\n",
    "\n",
    "# Accuracy\n",
    "correct_pred = tf.equal(tf.argmax(logits, 1), tf.argmax(y, 1))\n",
    "accuracy = tf.reduce_mean(tf.cast(correct_pred, tf.float32), name='accuracy')\n",
    "\n",
    "tests.test_conv_net(conv_net)"
   ]
  },
  {
   "cell_type": "markdown",
   "metadata": {},
   "source": [
    "## Train the Neural Network\n",
    "### Single Optimization\n",
    "Implement the function `train_neural_network` to do a single optimization.  The optimization should use `optimizer` to optimize in `session` with a `feed_dict` of the following:\n",
    "* `x` for image input\n",
    "* `y` for labels\n",
    "* `keep_prob` for keep probability for dropout\n",
    "\n",
    "This function will be called for each batch, so `tf.global_variables_initializer()` has already been called.\n",
    "\n",
    "Note: Nothing needs to be returned. This function is only optimizing the neural network."
   ]
  },
  {
   "cell_type": "code",
   "execution_count": 20,
   "metadata": {},
   "outputs": [
    {
     "name": "stdout",
     "output_type": "stream",
     "text": [
      "Tests Passed\n"
     ]
    }
   ],
   "source": [
    "def train_neural_network(session, optimizer, keep_probability, feature_batch, label_batch):\n",
    "    \"\"\"\n",
    "    Optimize the session on a batch of images and labels\n",
    "    : session: Current TensorFlow session\n",
    "    : optimizer: TensorFlow optimizer function\n",
    "    : keep_probability: keep probability\n",
    "    : feature_batch: Batch of Numpy image data\n",
    "    : label_batch: Batch of Numpy label data\n",
    "    \"\"\"\n",
    "    # TODO: Implement Function\n",
    "    session.run(optimizer, feed_dict={x:feature_batch, y:label_batch, keep_prob:keep_probability})\n",
    "\n",
    "\n",
    "\"\"\"\n",
    "DON'T MODIFY ANYTHING IN THIS CELL THAT IS BELOW THIS LINE\n",
    "\"\"\"\n",
    "tests.test_train_nn(train_neural_network)"
   ]
  },
  {
   "cell_type": "markdown",
   "metadata": {},
   "source": [
    "### Show Stats\n",
    "Implement the function `print_stats` to print loss and validation accuracy.  Use the global variables `valid_features` and `valid_labels` to calculate validation accuracy.  Use a keep probability of `1.0` to calculate the loss and validation accuracy."
   ]
  },
  {
   "cell_type": "code",
   "execution_count": 21,
   "metadata": {
    "collapsed": true
   },
   "outputs": [],
   "source": [
    "def print_stats(session, feature_batch, label_batch, cost, accuracy):\n",
    "    \"\"\"\n",
    "    Print information about loss and validation accuracy\n",
    "    : session: Current TensorFlow session\n",
    "    : feature_batch: Batch of Numpy image data\n",
    "    : label_batch: Batch of Numpy label data\n",
    "    : cost: TensorFlow cost function\n",
    "    : accuracy: TensorFlow accuracy function\n",
    "    \"\"\"\n",
    "    # TODO: Implement Function\n",
    "    loss = session.run(cost, feed_dict={x:feature_batch, y:label_batch, keep_prob:1.0})\n",
    "    validation_accuracy = session.run(accuracy, feed_dict={x: valid_features, y: valid_labels, keep_prob: 1.0})\n",
    "    print('Cost = {0} - Validation Accuracy = {1}'.format(loss, validation_accuracy))"
   ]
  },
  {
   "cell_type": "markdown",
   "metadata": {},
   "source": [
    "### Hyperparameters\n",
    "Tune the following parameters:\n",
    "* Set `epochs` to the number of iterations until the network stops learning or start overfitting\n",
    "* Set `batch_size` to the highest number that your machine has memory for.  Most people set them to common sizes of memory:\n",
    " * 64\n",
    " * 128\n",
    " * 256\n",
    " * ...\n",
    "* Set `keep_probability` to the probability of keeping a node using dropout"
   ]
  },
  {
   "cell_type": "code",
   "execution_count": 28,
   "metadata": {
    "collapsed": true
   },
   "outputs": [],
   "source": [
    "# TODO: Tune Parameters\n",
    "epochs = 50\n",
    "batch_size = 128\n",
    "keep_probability = 0.6"
   ]
  },
  {
   "cell_type": "markdown",
   "metadata": {},
   "source": [
    "### Train on a Single CIFAR-10 Batch\n",
    "Instead of training the neural network on all the CIFAR-10 batches of data, let's use a single batch. This should save time while you iterate on the model to get a better accuracy.  Once the final validation accuracy is 50% or greater, run the model on all the data in the next section."
   ]
  },
  {
   "cell_type": "code",
   "execution_count": 29,
   "metadata": {},
   "outputs": [
    {
     "name": "stdout",
     "output_type": "stream",
     "text": [
      "Checking the Training on a Single Batch...\n",
      "Epoch  1, CIFAR-10 Batch 1:  Cost = 2.2438271045684814 - Validation Accuracy = 0.13519999384880066\n",
      "Epoch  2, CIFAR-10 Batch 1:  Cost = 2.151693820953369 - Validation Accuracy = 0.2409999966621399\n",
      "Epoch  3, CIFAR-10 Batch 1:  Cost = 2.1144118309020996 - Validation Accuracy = 0.28619998693466187\n",
      "Epoch  4, CIFAR-10 Batch 1:  Cost = 2.0159661769866943 - Validation Accuracy = 0.311599999666214\n",
      "Epoch  5, CIFAR-10 Batch 1:  Cost = 1.9370521306991577 - Validation Accuracy = 0.33180001378059387\n",
      "Epoch  6, CIFAR-10 Batch 1:  Cost = 1.814422607421875 - Validation Accuracy = 0.38119998574256897\n",
      "Epoch  7, CIFAR-10 Batch 1:  Cost = 1.7094287872314453 - Validation Accuracy = 0.391400009393692\n",
      "Epoch  8, CIFAR-10 Batch 1:  Cost = 1.5994689464569092 - Validation Accuracy = 0.40880000591278076\n",
      "Epoch  9, CIFAR-10 Batch 1:  Cost = 1.53340482711792 - Validation Accuracy = 0.41339999437332153\n",
      "Epoch 10, CIFAR-10 Batch 1:  Cost = 1.5198462009429932 - Validation Accuracy = 0.4153999984264374\n",
      "Epoch 11, CIFAR-10 Batch 1:  Cost = 1.4232069253921509 - Validation Accuracy = 0.4320000112056732\n",
      "Epoch 12, CIFAR-10 Batch 1:  Cost = 1.3792165517807007 - Validation Accuracy = 0.4368000030517578\n",
      "Epoch 13, CIFAR-10 Batch 1:  Cost = 1.3358745574951172 - Validation Accuracy = 0.444599986076355\n",
      "Epoch 14, CIFAR-10 Batch 1:  Cost = 1.3346631526947021 - Validation Accuracy = 0.45339998602867126\n",
      "Epoch 15, CIFAR-10 Batch 1:  Cost = 1.281648874282837 - Validation Accuracy = 0.4586000144481659\n",
      "Epoch 16, CIFAR-10 Batch 1:  Cost = 1.225655198097229 - Validation Accuracy = 0.4691999852657318\n",
      "Epoch 17, CIFAR-10 Batch 1:  Cost = 1.1361639499664307 - Validation Accuracy = 0.490200012922287\n",
      "Epoch 18, CIFAR-10 Batch 1:  Cost = 1.1075513362884521 - Validation Accuracy = 0.49160000681877136\n",
      "Epoch 19, CIFAR-10 Batch 1:  Cost = 1.0555126667022705 - Validation Accuracy = 0.4957999885082245\n",
      "Epoch 20, CIFAR-10 Batch 1:  Cost = 1.032889723777771 - Validation Accuracy = 0.5005999803543091\n",
      "Epoch 21, CIFAR-10 Batch 1:  Cost = 1.0209603309631348 - Validation Accuracy = 0.5022000074386597\n",
      "Epoch 22, CIFAR-10 Batch 1:  Cost = 0.9692632555961609 - Validation Accuracy = 0.5091999769210815\n",
      "Epoch 23, CIFAR-10 Batch 1:  Cost = 0.9458924531936646 - Validation Accuracy = 0.5059999823570251\n",
      "Epoch 24, CIFAR-10 Batch 1:  Cost = 0.9170525670051575 - Validation Accuracy = 0.5090000033378601\n",
      "Epoch 25, CIFAR-10 Batch 1:  Cost = 0.8974750638008118 - Validation Accuracy = 0.5112000107765198\n",
      "Epoch 26, CIFAR-10 Batch 1:  Cost = 0.8549005389213562 - Validation Accuracy = 0.5135999917984009\n",
      "Epoch 27, CIFAR-10 Batch 1:  Cost = 0.8397701382637024 - Validation Accuracy = 0.5113999843597412\n",
      "Epoch 28, CIFAR-10 Batch 1:  Cost = 0.7995684742927551 - Validation Accuracy = 0.5126000046730042\n",
      "Epoch 29, CIFAR-10 Batch 1:  Cost = 0.7768840789794922 - Validation Accuracy = 0.515999972820282\n",
      "Epoch 30, CIFAR-10 Batch 1:  Cost = 0.7485587000846863 - Validation Accuracy = 0.5072000026702881\n",
      "Epoch 31, CIFAR-10 Batch 1:  Cost = 0.7234588265419006 - Validation Accuracy = 0.515999972820282\n",
      "Epoch 32, CIFAR-10 Batch 1:  Cost = 0.7214826345443726 - Validation Accuracy = 0.5162000060081482\n",
      "Epoch 33, CIFAR-10 Batch 1:  Cost = 0.6745826601982117 - Validation Accuracy = 0.5188000202178955\n",
      "Epoch 34, CIFAR-10 Batch 1:  Cost = 0.6505845785140991 - Validation Accuracy = 0.5170000195503235\n",
      "Epoch 35, CIFAR-10 Batch 1:  Cost = 0.6428403854370117 - Validation Accuracy = 0.5138000249862671\n",
      "Epoch 36, CIFAR-10 Batch 1:  Cost = 0.6374708414077759 - Validation Accuracy = 0.5194000005722046\n",
      "Epoch 37, CIFAR-10 Batch 1:  Cost = 0.6328526735305786 - Validation Accuracy = 0.5181999802589417\n",
      "Epoch 38, CIFAR-10 Batch 1:  Cost = 0.6020925045013428 - Validation Accuracy = 0.5175999999046326\n",
      "Epoch 39, CIFAR-10 Batch 1:  Cost = 0.585760235786438 - Validation Accuracy = 0.5162000060081482\n",
      "Epoch 40, CIFAR-10 Batch 1:  Cost = 0.5711650848388672 - Validation Accuracy = 0.5212000012397766\n",
      "Epoch 41, CIFAR-10 Batch 1:  Cost = 0.5579074025154114 - Validation Accuracy = 0.5181999802589417\n",
      "Epoch 42, CIFAR-10 Batch 1:  Cost = 0.5360401272773743 - Validation Accuracy = 0.520799994468689\n",
      "Epoch 43, CIFAR-10 Batch 1:  Cost = 0.5431532859802246 - Validation Accuracy = 0.521399974822998\n",
      "Epoch 44, CIFAR-10 Batch 1:  Cost = 0.5220109224319458 - Validation Accuracy = 0.5239999890327454\n",
      "Epoch 45, CIFAR-10 Batch 1:  Cost = 0.49464187026023865 - Validation Accuracy = 0.5235999822616577\n",
      "Epoch 46, CIFAR-10 Batch 1:  Cost = 0.49622654914855957 - Validation Accuracy = 0.5134000182151794\n",
      "Epoch 47, CIFAR-10 Batch 1:  Cost = 0.48453330993652344 - Validation Accuracy = 0.5171999931335449\n",
      "Epoch 48, CIFAR-10 Batch 1:  Cost = 0.4980281889438629 - Validation Accuracy = 0.5162000060081482\n",
      "Epoch 49, CIFAR-10 Batch 1:  Cost = 0.45258671045303345 - Validation Accuracy = 0.5224000215530396\n",
      "Epoch 50, CIFAR-10 Batch 1:  Cost = 0.48353925347328186 - Validation Accuracy = 0.5198000073432922\n"
     ]
    }
   ],
   "source": [
    "\"\"\"\n",
    "DON'T MODIFY ANYTHING IN THIS CELL\n",
    "\"\"\"\n",
    "print('Checking the Training on a Single Batch...')\n",
    "with tf.Session() as sess:\n",
    "    # Initializing the variables\n",
    "    sess.run(tf.global_variables_initializer())\n",
    "    \n",
    "    # Training cycle\n",
    "    for epoch in range(epochs):\n",
    "        batch_i = 1\n",
    "        for batch_features, batch_labels in helper.load_preprocess_training_batch(batch_i, batch_size):\n",
    "            train_neural_network(sess, optimizer, keep_probability, batch_features, batch_labels)\n",
    "        print('Epoch {:>2}, CIFAR-10 Batch {}:  '.format(epoch + 1, batch_i), end='')\n",
    "        print_stats(sess, batch_features, batch_labels, cost, accuracy)"
   ]
  },
  {
   "cell_type": "markdown",
   "metadata": {},
   "source": [
    "### Fully Train the Model\n",
    "Now that you got a good accuracy with a single CIFAR-10 batch, try it with all five batches."
   ]
  },
  {
   "cell_type": "code",
   "execution_count": 30,
   "metadata": {},
   "outputs": [
    {
     "name": "stdout",
     "output_type": "stream",
     "text": [
      "Training...\n",
      "Epoch  1, CIFAR-10 Batch 1:  Cost = 2.2250795364379883 - Validation Accuracy = 0.20980000495910645\n",
      "Epoch  1, CIFAR-10 Batch 2:  Cost = 1.9203304052352905 - Validation Accuracy = 0.2906000018119812\n",
      "Epoch  1, CIFAR-10 Batch 3:  Cost = 1.6923354864120483 - Validation Accuracy = 0.30480000376701355\n",
      "Epoch  1, CIFAR-10 Batch 4:  Cost = 1.7787895202636719 - Validation Accuracy = 0.296999990940094\n",
      "Epoch  1, CIFAR-10 Batch 5:  Cost = 1.6759933233261108 - Validation Accuracy = 0.32580000162124634\n",
      "Epoch  2, CIFAR-10 Batch 1:  Cost = 1.9172357320785522 - Validation Accuracy = 0.3386000096797943\n",
      "Epoch  2, CIFAR-10 Batch 2:  Cost = 1.7580792903900146 - Validation Accuracy = 0.3353999853134155\n",
      "Epoch  2, CIFAR-10 Batch 3:  Cost = 1.5630416870117188 - Validation Accuracy = 0.3086000084877014\n",
      "Epoch  2, CIFAR-10 Batch 4:  Cost = 1.6574573516845703 - Validation Accuracy = 0.34700000286102295\n",
      "Epoch  2, CIFAR-10 Batch 5:  Cost = 1.590787649154663 - Validation Accuracy = 0.3555999994277954\n",
      "Epoch  3, CIFAR-10 Batch 1:  Cost = 1.8311741352081299 - Validation Accuracy = 0.3937999904155731\n",
      "Epoch  3, CIFAR-10 Batch 2:  Cost = 1.5915601253509521 - Validation Accuracy = 0.4081999957561493\n",
      "Epoch  3, CIFAR-10 Batch 3:  Cost = 1.382952094078064 - Validation Accuracy = 0.3871999979019165\n",
      "Epoch  3, CIFAR-10 Batch 4:  Cost = 1.531434416770935 - Validation Accuracy = 0.4180000126361847\n",
      "Epoch  3, CIFAR-10 Batch 5:  Cost = 1.368999719619751 - Validation Accuracy = 0.42399999499320984\n",
      "Epoch  4, CIFAR-10 Batch 1:  Cost = 1.7178478240966797 - Validation Accuracy = 0.42559999227523804\n",
      "Epoch  4, CIFAR-10 Batch 2:  Cost = 1.4663503170013428 - Validation Accuracy = 0.43320000171661377\n",
      "Epoch  4, CIFAR-10 Batch 3:  Cost = 1.1498308181762695 - Validation Accuracy = 0.43479999899864197\n",
      "Epoch  4, CIFAR-10 Batch 4:  Cost = 1.4348268508911133 - Validation Accuracy = 0.4487999975681305\n",
      "Epoch  4, CIFAR-10 Batch 5:  Cost = 1.323834776878357 - Validation Accuracy = 0.44999998807907104\n",
      "Epoch  5, CIFAR-10 Batch 1:  Cost = 1.7037343978881836 - Validation Accuracy = 0.44119998812675476\n",
      "Epoch  5, CIFAR-10 Batch 2:  Cost = 1.3625783920288086 - Validation Accuracy = 0.46860000491142273\n",
      "Epoch  5, CIFAR-10 Batch 3:  Cost = 1.0692546367645264 - Validation Accuracy = 0.4690000116825104\n",
      "Epoch  5, CIFAR-10 Batch 4:  Cost = 1.3098608255386353 - Validation Accuracy = 0.503000020980835\n",
      "Epoch  5, CIFAR-10 Batch 5:  Cost = 1.2017828226089478 - Validation Accuracy = 0.5013999938964844\n",
      "Epoch  6, CIFAR-10 Batch 1:  Cost = 1.455155611038208 - Validation Accuracy = 0.5148000121116638\n",
      "Epoch  6, CIFAR-10 Batch 2:  Cost = 1.2312816381454468 - Validation Accuracy = 0.5181999802589417\n",
      "Epoch  6, CIFAR-10 Batch 3:  Cost = 1.009438157081604 - Validation Accuracy = 0.4970000088214874\n",
      "Epoch  6, CIFAR-10 Batch 4:  Cost = 1.2180038690567017 - Validation Accuracy = 0.5121999979019165\n",
      "Epoch  6, CIFAR-10 Batch 5:  Cost = 1.125679612159729 - Validation Accuracy = 0.5407999753952026\n",
      "Epoch  7, CIFAR-10 Batch 1:  Cost = 1.3103934526443481 - Validation Accuracy = 0.5335999727249146\n",
      "Epoch  7, CIFAR-10 Batch 2:  Cost = 1.1707828044891357 - Validation Accuracy = 0.5181999802589417\n",
      "Epoch  7, CIFAR-10 Batch 3:  Cost = 0.9872423410415649 - Validation Accuracy = 0.5231999754905701\n",
      "Epoch  7, CIFAR-10 Batch 4:  Cost = 1.2287483215332031 - Validation Accuracy = 0.5260000228881836\n",
      "Epoch  7, CIFAR-10 Batch 5:  Cost = 1.104657769203186 - Validation Accuracy = 0.5429999828338623\n",
      "Epoch  8, CIFAR-10 Batch 1:  Cost = 1.246260404586792 - Validation Accuracy = 0.5478000044822693\n",
      "Epoch  8, CIFAR-10 Batch 2:  Cost = 1.1531388759613037 - Validation Accuracy = 0.5356000065803528\n",
      "Epoch  8, CIFAR-10 Batch 3:  Cost = 0.9444090127944946 - Validation Accuracy = 0.5325999855995178\n",
      "Epoch  8, CIFAR-10 Batch 4:  Cost = 1.1492433547973633 - Validation Accuracy = 0.5370000004768372\n",
      "Epoch  8, CIFAR-10 Batch 5:  Cost = 1.0733609199523926 - Validation Accuracy = 0.5419999957084656\n",
      "Epoch  9, CIFAR-10 Batch 1:  Cost = 1.2003921270370483 - Validation Accuracy = 0.5511999726295471\n",
      "Epoch  9, CIFAR-10 Batch 2:  Cost = 1.0992966890335083 - Validation Accuracy = 0.5443999767303467\n",
      "Epoch  9, CIFAR-10 Batch 3:  Cost = 0.9273689985275269 - Validation Accuracy = 0.5446000099182129\n",
      "Epoch  9, CIFAR-10 Batch 4:  Cost = 1.1140648126602173 - Validation Accuracy = 0.5559999942779541\n",
      "Epoch  9, CIFAR-10 Batch 5:  Cost = 1.0143561363220215 - Validation Accuracy = 0.5541999936103821\n",
      "Epoch 10, CIFAR-10 Batch 1:  Cost = 1.1353023052215576 - Validation Accuracy = 0.5569999814033508\n",
      "Epoch 10, CIFAR-10 Batch 2:  Cost = 1.0985018014907837 - Validation Accuracy = 0.5509999990463257\n",
      "Epoch 10, CIFAR-10 Batch 3:  Cost = 0.8616154789924622 - Validation Accuracy = 0.546999990940094\n",
      "Epoch 10, CIFAR-10 Batch 4:  Cost = 1.1112838983535767 - Validation Accuracy = 0.5522000193595886\n",
      "Epoch 10, CIFAR-10 Batch 5:  Cost = 0.95550137758255 - Validation Accuracy = 0.5618000030517578\n",
      "Epoch 11, CIFAR-10 Batch 1:  Cost = 1.1103878021240234 - Validation Accuracy = 0.5605999827384949\n",
      "Epoch 11, CIFAR-10 Batch 2:  Cost = 1.0616116523742676 - Validation Accuracy = 0.5546000003814697\n",
      "Epoch 11, CIFAR-10 Batch 3:  Cost = 0.8366109132766724 - Validation Accuracy = 0.5440000295639038\n",
      "Epoch 11, CIFAR-10 Batch 4:  Cost = 1.0573736429214478 - Validation Accuracy = 0.5598000288009644\n",
      "Epoch 11, CIFAR-10 Batch 5:  Cost = 0.9567742347717285 - Validation Accuracy = 0.5590000152587891\n",
      "Epoch 12, CIFAR-10 Batch 1:  Cost = 1.083069920539856 - Validation Accuracy = 0.5663999915122986\n",
      "Epoch 12, CIFAR-10 Batch 2:  Cost = 1.0326519012451172 - Validation Accuracy = 0.5541999936103821\n",
      "Epoch 12, CIFAR-10 Batch 3:  Cost = 0.8331546783447266 - Validation Accuracy = 0.5440000295639038\n",
      "Epoch 12, CIFAR-10 Batch 4:  Cost = 1.0407016277313232 - Validation Accuracy = 0.5594000220298767\n",
      "Epoch 12, CIFAR-10 Batch 5:  Cost = 0.9130334854125977 - Validation Accuracy = 0.5612000226974487\n",
      "Epoch 13, CIFAR-10 Batch 1:  Cost = 1.0625336170196533 - Validation Accuracy = 0.5716000199317932\n",
      "Epoch 13, CIFAR-10 Batch 2:  Cost = 1.0193026065826416 - Validation Accuracy = 0.5551999807357788\n",
      "Epoch 13, CIFAR-10 Batch 3:  Cost = 0.8047731518745422 - Validation Accuracy = 0.548799991607666\n",
      "Epoch 13, CIFAR-10 Batch 4:  Cost = 1.007767915725708 - Validation Accuracy = 0.5698000192642212\n",
      "Epoch 13, CIFAR-10 Batch 5:  Cost = 0.9046540260314941 - Validation Accuracy = 0.5587999820709229\n",
      "Epoch 14, CIFAR-10 Batch 1:  Cost = 1.014643907546997 - Validation Accuracy = 0.5735999941825867\n",
      "Epoch 14, CIFAR-10 Batch 2:  Cost = 0.9920398592948914 - Validation Accuracy = 0.5672000050544739\n",
      "Epoch 14, CIFAR-10 Batch 3:  Cost = 0.8248443603515625 - Validation Accuracy = 0.557200014591217\n",
      "Epoch 14, CIFAR-10 Batch 4:  Cost = 0.9891420602798462 - Validation Accuracy = 0.574400007724762\n",
      "Epoch 14, CIFAR-10 Batch 5:  Cost = 0.8646036386489868 - Validation Accuracy = 0.5708000063896179\n",
      "Epoch 15, CIFAR-10 Batch 1:  Cost = 1.0079615116119385 - Validation Accuracy = 0.5785999894142151\n",
      "Epoch 15, CIFAR-10 Batch 2:  Cost = 0.9447318911552429 - Validation Accuracy = 0.5684000253677368\n",
      "Epoch 15, CIFAR-10 Batch 3:  Cost = 0.7880226373672485 - Validation Accuracy = 0.5587999820709229\n",
      "Epoch 15, CIFAR-10 Batch 4:  Cost = 0.9820451736450195 - Validation Accuracy = 0.5748000144958496\n",
      "Epoch 15, CIFAR-10 Batch 5:  Cost = 0.8736835718154907 - Validation Accuracy = 0.5623999834060669\n",
      "Epoch 16, CIFAR-10 Batch 1:  Cost = 0.9709542989730835 - Validation Accuracy = 0.5835999846458435\n",
      "Epoch 16, CIFAR-10 Batch 2:  Cost = 0.9501668810844421 - Validation Accuracy = 0.5748000144958496\n",
      "Epoch 16, CIFAR-10 Batch 3:  Cost = 0.7555288672447205 - Validation Accuracy = 0.5631999969482422\n",
      "Epoch 16, CIFAR-10 Batch 4:  Cost = 0.9364644289016724 - Validation Accuracy = 0.5813999772071838\n",
      "Epoch 16, CIFAR-10 Batch 5:  Cost = 0.8251852989196777 - Validation Accuracy = 0.5723999738693237\n",
      "Epoch 17, CIFAR-10 Batch 1:  Cost = 0.957785427570343 - Validation Accuracy = 0.5795999765396118\n",
      "Epoch 17, CIFAR-10 Batch 2:  Cost = 0.8873472213745117 - Validation Accuracy = 0.5784000158309937\n",
      "Epoch 17, CIFAR-10 Batch 3:  Cost = 0.74758380651474 - Validation Accuracy = 0.5649999976158142\n",
      "Epoch 17, CIFAR-10 Batch 4:  Cost = 0.943053126335144 - Validation Accuracy = 0.5795999765396118\n"
     ]
    },
    {
     "name": "stdout",
     "output_type": "stream",
     "text": [
      "Epoch 17, CIFAR-10 Batch 5:  Cost = 0.7823315858840942 - Validation Accuracy = 0.5720000267028809\n",
      "Epoch 18, CIFAR-10 Batch 1:  Cost = 0.9495674967765808 - Validation Accuracy = 0.5807999968528748\n",
      "Epoch 18, CIFAR-10 Batch 2:  Cost = 0.8754255175590515 - Validation Accuracy = 0.5699999928474426\n",
      "Epoch 18, CIFAR-10 Batch 3:  Cost = 0.750501811504364 - Validation Accuracy = 0.5684000253677368\n",
      "Epoch 18, CIFAR-10 Batch 4:  Cost = 0.9451137781143188 - Validation Accuracy = 0.5856000185012817\n",
      "Epoch 18, CIFAR-10 Batch 5:  Cost = 0.8197264671325684 - Validation Accuracy = 0.5730000138282776\n",
      "Epoch 19, CIFAR-10 Batch 1:  Cost = 0.907811164855957 - Validation Accuracy = 0.5820000171661377\n",
      "Epoch 19, CIFAR-10 Batch 2:  Cost = 0.8912705183029175 - Validation Accuracy = 0.5759999752044678\n",
      "Epoch 19, CIFAR-10 Batch 3:  Cost = 0.7310717701911926 - Validation Accuracy = 0.5795999765396118\n",
      "Epoch 19, CIFAR-10 Batch 4:  Cost = 0.9359275698661804 - Validation Accuracy = 0.5807999968528748\n",
      "Epoch 19, CIFAR-10 Batch 5:  Cost = 0.781226396560669 - Validation Accuracy = 0.5802000164985657\n",
      "Epoch 20, CIFAR-10 Batch 1:  Cost = 0.8780482411384583 - Validation Accuracy = 0.5875999927520752\n",
      "Epoch 20, CIFAR-10 Batch 2:  Cost = 0.8511303067207336 - Validation Accuracy = 0.5776000022888184\n",
      "Epoch 20, CIFAR-10 Batch 3:  Cost = 0.717654824256897 - Validation Accuracy = 0.574999988079071\n",
      "Epoch 20, CIFAR-10 Batch 4:  Cost = 0.88763827085495 - Validation Accuracy = 0.5885999798774719\n",
      "Epoch 20, CIFAR-10 Batch 5:  Cost = 0.7353999614715576 - Validation Accuracy = 0.579200029373169\n",
      "Epoch 21, CIFAR-10 Batch 1:  Cost = 0.8551901578903198 - Validation Accuracy = 0.5871999859809875\n",
      "Epoch 21, CIFAR-10 Batch 2:  Cost = 0.8534744381904602 - Validation Accuracy = 0.5806000232696533\n",
      "Epoch 21, CIFAR-10 Batch 3:  Cost = 0.7056576013565063 - Validation Accuracy = 0.5740000009536743\n",
      "Epoch 21, CIFAR-10 Batch 4:  Cost = 0.8490896224975586 - Validation Accuracy = 0.5929999947547913\n",
      "Epoch 21, CIFAR-10 Batch 5:  Cost = 0.7494401931762695 - Validation Accuracy = 0.5680000185966492\n",
      "Epoch 22, CIFAR-10 Batch 1:  Cost = 0.8727302551269531 - Validation Accuracy = 0.5857999920845032\n",
      "Epoch 22, CIFAR-10 Batch 2:  Cost = 0.8232200741767883 - Validation Accuracy = 0.5866000056266785\n",
      "Epoch 22, CIFAR-10 Batch 3:  Cost = 0.7063177824020386 - Validation Accuracy = 0.5827999711036682\n",
      "Epoch 22, CIFAR-10 Batch 4:  Cost = 0.8496690988540649 - Validation Accuracy = 0.5932000279426575\n",
      "Epoch 22, CIFAR-10 Batch 5:  Cost = 0.7468335032463074 - Validation Accuracy = 0.5861999988555908\n",
      "Epoch 23, CIFAR-10 Batch 1:  Cost = 0.855230987071991 - Validation Accuracy = 0.5853999853134155\n",
      "Epoch 23, CIFAR-10 Batch 2:  Cost = 0.8206120729446411 - Validation Accuracy = 0.5878000259399414\n",
      "Epoch 23, CIFAR-10 Batch 3:  Cost = 0.6907917261123657 - Validation Accuracy = 0.5838000178337097\n",
      "Epoch 23, CIFAR-10 Batch 4:  Cost = 0.847355842590332 - Validation Accuracy = 0.5902000069618225\n",
      "Epoch 23, CIFAR-10 Batch 5:  Cost = 0.7250544428825378 - Validation Accuracy = 0.5789999961853027\n",
      "Epoch 24, CIFAR-10 Batch 1:  Cost = 0.8616765737533569 - Validation Accuracy = 0.5911999940872192\n",
      "Epoch 24, CIFAR-10 Batch 2:  Cost = 0.8385170698165894 - Validation Accuracy = 0.5893999934196472\n",
      "Epoch 24, CIFAR-10 Batch 3:  Cost = 0.6831693053245544 - Validation Accuracy = 0.5907999873161316\n",
      "Epoch 24, CIFAR-10 Batch 4:  Cost = 0.8289011120796204 - Validation Accuracy = 0.5952000021934509\n",
      "Epoch 24, CIFAR-10 Batch 5:  Cost = 0.7168337106704712 - Validation Accuracy = 0.5866000056266785\n",
      "Epoch 25, CIFAR-10 Batch 1:  Cost = 0.849595844745636 - Validation Accuracy = 0.5920000076293945\n",
      "Epoch 25, CIFAR-10 Batch 2:  Cost = 0.7903943061828613 - Validation Accuracy = 0.5942000150680542\n",
      "Epoch 25, CIFAR-10 Batch 3:  Cost = 0.6737021207809448 - Validation Accuracy = 0.5870000123977661\n",
      "Epoch 25, CIFAR-10 Batch 4:  Cost = 0.8285293579101562 - Validation Accuracy = 0.597000002861023\n",
      "Epoch 25, CIFAR-10 Batch 5:  Cost = 0.7257086038589478 - Validation Accuracy = 0.5878000259399414\n",
      "Epoch 26, CIFAR-10 Batch 1:  Cost = 0.812717616558075 - Validation Accuracy = 0.597000002861023\n",
      "Epoch 26, CIFAR-10 Batch 2:  Cost = 0.775513768196106 - Validation Accuracy = 0.5892000198364258\n",
      "Epoch 26, CIFAR-10 Batch 3:  Cost = 0.6673611402511597 - Validation Accuracy = 0.5807999968528748\n",
      "Epoch 26, CIFAR-10 Batch 4:  Cost = 0.8332479596138 - Validation Accuracy = 0.5956000089645386\n",
      "Epoch 26, CIFAR-10 Batch 5:  Cost = 0.7444202899932861 - Validation Accuracy = 0.5834000110626221\n",
      "Epoch 27, CIFAR-10 Batch 1:  Cost = 0.813068687915802 - Validation Accuracy = 0.5953999757766724\n",
      "Epoch 27, CIFAR-10 Batch 2:  Cost = 0.7713660001754761 - Validation Accuracy = 0.5934000015258789\n",
      "Epoch 27, CIFAR-10 Batch 3:  Cost = 0.6638932228088379 - Validation Accuracy = 0.5875999927520752\n",
      "Epoch 27, CIFAR-10 Batch 4:  Cost = 0.8104163408279419 - Validation Accuracy = 0.5956000089645386\n",
      "Epoch 27, CIFAR-10 Batch 5:  Cost = 0.7317273616790771 - Validation Accuracy = 0.5821999907493591\n",
      "Epoch 28, CIFAR-10 Batch 1:  Cost = 0.8120020627975464 - Validation Accuracy = 0.5992000102996826\n",
      "Epoch 28, CIFAR-10 Batch 2:  Cost = 0.727455198764801 - Validation Accuracy = 0.5925999879837036\n",
      "Epoch 28, CIFAR-10 Batch 3:  Cost = 0.6710056662559509 - Validation Accuracy = 0.5916000008583069\n",
      "Epoch 28, CIFAR-10 Batch 4:  Cost = 0.798997163772583 - Validation Accuracy = 0.598800003528595\n",
      "Epoch 28, CIFAR-10 Batch 5:  Cost = 0.6987088322639465 - Validation Accuracy = 0.5874000191688538\n",
      "Epoch 29, CIFAR-10 Batch 1:  Cost = 0.8081086874008179 - Validation Accuracy = 0.5982000231742859\n",
      "Epoch 29, CIFAR-10 Batch 2:  Cost = 0.7350693941116333 - Validation Accuracy = 0.5928000211715698\n",
      "Epoch 29, CIFAR-10 Batch 3:  Cost = 0.6515270471572876 - Validation Accuracy = 0.5932000279426575\n",
      "Epoch 29, CIFAR-10 Batch 4:  Cost = 0.7962632179260254 - Validation Accuracy = 0.599399983882904\n",
      "Epoch 29, CIFAR-10 Batch 5:  Cost = 0.72612065076828 - Validation Accuracy = 0.5857999920845032\n",
      "Epoch 30, CIFAR-10 Batch 1:  Cost = 0.7859500050544739 - Validation Accuracy = 0.5929999947547913\n",
      "Epoch 30, CIFAR-10 Batch 2:  Cost = 0.7296452522277832 - Validation Accuracy = 0.5947999954223633\n",
      "Epoch 30, CIFAR-10 Batch 3:  Cost = 0.646587610244751 - Validation Accuracy = 0.5907999873161316\n",
      "Epoch 30, CIFAR-10 Batch 4:  Cost = 0.7776470184326172 - Validation Accuracy = 0.5979999899864197\n",
      "Epoch 30, CIFAR-10 Batch 5:  Cost = 0.6762474179267883 - Validation Accuracy = 0.5875999927520752\n",
      "Epoch 31, CIFAR-10 Batch 1:  Cost = 0.8054981231689453 - Validation Accuracy = 0.5992000102996826\n",
      "Epoch 31, CIFAR-10 Batch 2:  Cost = 0.7373166084289551 - Validation Accuracy = 0.5916000008583069\n",
      "Epoch 31, CIFAR-10 Batch 3:  Cost = 0.6506632566452026 - Validation Accuracy = 0.5892000198364258\n",
      "Epoch 31, CIFAR-10 Batch 4:  Cost = 0.7985399961471558 - Validation Accuracy = 0.598800003528595\n",
      "Epoch 31, CIFAR-10 Batch 5:  Cost = 0.7156867384910583 - Validation Accuracy = 0.5861999988555908\n",
      "Epoch 32, CIFAR-10 Batch 1:  Cost = 0.7559305429458618 - Validation Accuracy = 0.6001999974250793\n",
      "Epoch 32, CIFAR-10 Batch 2:  Cost = 0.6994847059249878 - Validation Accuracy = 0.599399983882904\n",
      "Epoch 32, CIFAR-10 Batch 3:  Cost = 0.6375292539596558 - Validation Accuracy = 0.5947999954223633\n",
      "Epoch 32, CIFAR-10 Batch 4:  Cost = 0.7615483999252319 - Validation Accuracy = 0.5974000096321106\n",
      "Epoch 32, CIFAR-10 Batch 5:  Cost = 0.6852601170539856 - Validation Accuracy = 0.5902000069618225\n",
      "Epoch 33, CIFAR-10 Batch 1:  Cost = 0.7662758827209473 - Validation Accuracy = 0.6033999919891357\n",
      "Epoch 33, CIFAR-10 Batch 2:  Cost = 0.7042287588119507 - Validation Accuracy = 0.5947999954223633\n",
      "Epoch 33, CIFAR-10 Batch 3:  Cost = 0.6191724538803101 - Validation Accuracy = 0.597000002861023\n",
      "Epoch 33, CIFAR-10 Batch 4:  Cost = 0.7600029110908508 - Validation Accuracy = 0.6043999791145325\n",
      "Epoch 33, CIFAR-10 Batch 5:  Cost = 0.6801143884658813 - Validation Accuracy = 0.5863999724388123\n",
      "Epoch 34, CIFAR-10 Batch 1:  Cost = 0.7597289085388184 - Validation Accuracy = 0.5992000102996826\n",
      "Epoch 34, CIFAR-10 Batch 2:  Cost = 0.6798995137214661 - Validation Accuracy = 0.5929999947547913\n",
      "Epoch 34, CIFAR-10 Batch 3:  Cost = 0.6144258975982666 - Validation Accuracy = 0.5985999703407288\n"
     ]
    },
    {
     "name": "stdout",
     "output_type": "stream",
     "text": [
      "Epoch 34, CIFAR-10 Batch 4:  Cost = 0.7636324763298035 - Validation Accuracy = 0.6010000109672546\n",
      "Epoch 34, CIFAR-10 Batch 5:  Cost = 0.6722851991653442 - Validation Accuracy = 0.5898000001907349\n",
      "Epoch 35, CIFAR-10 Batch 1:  Cost = 0.766700267791748 - Validation Accuracy = 0.6046000123023987\n",
      "Epoch 35, CIFAR-10 Batch 2:  Cost = 0.6781126856803894 - Validation Accuracy = 0.5929999947547913\n",
      "Epoch 35, CIFAR-10 Batch 3:  Cost = 0.5925488471984863 - Validation Accuracy = 0.599399983882904\n",
      "Epoch 35, CIFAR-10 Batch 4:  Cost = 0.7382746934890747 - Validation Accuracy = 0.6003999710083008\n",
      "Epoch 35, CIFAR-10 Batch 5:  Cost = 0.6359051465988159 - Validation Accuracy = 0.5938000082969666\n",
      "Epoch 36, CIFAR-10 Batch 1:  Cost = 0.7715954780578613 - Validation Accuracy = 0.5968000292778015\n",
      "Epoch 36, CIFAR-10 Batch 2:  Cost = 0.666983962059021 - Validation Accuracy = 0.5974000096321106\n",
      "Epoch 36, CIFAR-10 Batch 3:  Cost = 0.5868509411811829 - Validation Accuracy = 0.5928000211715698\n",
      "Epoch 36, CIFAR-10 Batch 4:  Cost = 0.7437837719917297 - Validation Accuracy = 0.6014000177383423\n",
      "Epoch 36, CIFAR-10 Batch 5:  Cost = 0.6552232503890991 - Validation Accuracy = 0.5932000279426575\n",
      "Epoch 37, CIFAR-10 Batch 1:  Cost = 0.7584393620491028 - Validation Accuracy = 0.603600025177002\n",
      "Epoch 37, CIFAR-10 Batch 2:  Cost = 0.6658350825309753 - Validation Accuracy = 0.5983999967575073\n",
      "Epoch 37, CIFAR-10 Batch 3:  Cost = 0.5938384532928467 - Validation Accuracy = 0.5989999771118164\n",
      "Epoch 37, CIFAR-10 Batch 4:  Cost = 0.7488372325897217 - Validation Accuracy = 0.6028000116348267\n",
      "Epoch 37, CIFAR-10 Batch 5:  Cost = 0.6550853848457336 - Validation Accuracy = 0.5947999954223633\n",
      "Epoch 38, CIFAR-10 Batch 1:  Cost = 0.7666803598403931 - Validation Accuracy = 0.6011999845504761\n",
      "Epoch 38, CIFAR-10 Batch 2:  Cost = 0.6745455265045166 - Validation Accuracy = 0.603600025177002\n",
      "Epoch 38, CIFAR-10 Batch 3:  Cost = 0.575670063495636 - Validation Accuracy = 0.6018000245094299\n",
      "Epoch 38, CIFAR-10 Batch 4:  Cost = 0.7344599366188049 - Validation Accuracy = 0.6001999974250793\n",
      "Epoch 38, CIFAR-10 Batch 5:  Cost = 0.6568984985351562 - Validation Accuracy = 0.5906000137329102\n",
      "Epoch 39, CIFAR-10 Batch 1:  Cost = 0.7349030375480652 - Validation Accuracy = 0.6046000123023987\n",
      "Epoch 39, CIFAR-10 Batch 2:  Cost = 0.6590079069137573 - Validation Accuracy = 0.6039999723434448\n",
      "Epoch 39, CIFAR-10 Batch 3:  Cost = 0.5842161178588867 - Validation Accuracy = 0.6014000177383423\n",
      "Epoch 39, CIFAR-10 Batch 4:  Cost = 0.737103283405304 - Validation Accuracy = 0.6015999913215637\n",
      "Epoch 39, CIFAR-10 Batch 5:  Cost = 0.6777231693267822 - Validation Accuracy = 0.5910000205039978\n",
      "Epoch 40, CIFAR-10 Batch 1:  Cost = 0.7587493062019348 - Validation Accuracy = 0.6021999716758728\n",
      "Epoch 40, CIFAR-10 Batch 2:  Cost = 0.6334255337715149 - Validation Accuracy = 0.5979999899864197\n",
      "Epoch 40, CIFAR-10 Batch 3:  Cost = 0.5641093254089355 - Validation Accuracy = 0.6010000109672546\n",
      "Epoch 40, CIFAR-10 Batch 4:  Cost = 0.7290531992912292 - Validation Accuracy = 0.597000002861023\n",
      "Epoch 40, CIFAR-10 Batch 5:  Cost = 0.6219609975814819 - Validation Accuracy = 0.5971999764442444\n",
      "Epoch 41, CIFAR-10 Batch 1:  Cost = 0.742325484752655 - Validation Accuracy = 0.6033999919891357\n",
      "Epoch 41, CIFAR-10 Batch 2:  Cost = 0.6575757265090942 - Validation Accuracy = 0.6021999716758728\n",
      "Epoch 41, CIFAR-10 Batch 3:  Cost = 0.57137531042099 - Validation Accuracy = 0.6028000116348267\n",
      "Epoch 41, CIFAR-10 Batch 4:  Cost = 0.7280054688453674 - Validation Accuracy = 0.6039999723434448\n",
      "Epoch 41, CIFAR-10 Batch 5:  Cost = 0.6199899911880493 - Validation Accuracy = 0.59579998254776\n",
      "Epoch 42, CIFAR-10 Batch 1:  Cost = 0.7006617784500122 - Validation Accuracy = 0.6015999913215637\n",
      "Epoch 42, CIFAR-10 Batch 2:  Cost = 0.6268112063407898 - Validation Accuracy = 0.5978000164031982\n",
      "Epoch 42, CIFAR-10 Batch 3:  Cost = 0.5500012636184692 - Validation Accuracy = 0.597599983215332\n",
      "Epoch 42, CIFAR-10 Batch 4:  Cost = 0.7385196685791016 - Validation Accuracy = 0.6021999716758728\n",
      "Epoch 42, CIFAR-10 Batch 5:  Cost = 0.615348219871521 - Validation Accuracy = 0.5996000170707703\n",
      "Epoch 43, CIFAR-10 Batch 1:  Cost = 0.7356001138687134 - Validation Accuracy = 0.6047999858856201\n",
      "Epoch 43, CIFAR-10 Batch 2:  Cost = 0.628637433052063 - Validation Accuracy = 0.5960000157356262\n",
      "Epoch 43, CIFAR-10 Batch 3:  Cost = 0.5508327484130859 - Validation Accuracy = 0.6043999791145325\n",
      "Epoch 43, CIFAR-10 Batch 4:  Cost = 0.7226436734199524 - Validation Accuracy = 0.6028000116348267\n",
      "Epoch 43, CIFAR-10 Batch 5:  Cost = 0.624287486076355 - Validation Accuracy = 0.5971999764442444\n",
      "Epoch 44, CIFAR-10 Batch 1:  Cost = 0.730488121509552 - Validation Accuracy = 0.599399983882904\n",
      "Epoch 44, CIFAR-10 Batch 2:  Cost = 0.6226679086685181 - Validation Accuracy = 0.6037999987602234\n",
      "Epoch 44, CIFAR-10 Batch 3:  Cost = 0.527776837348938 - Validation Accuracy = 0.603600025177002\n",
      "Epoch 44, CIFAR-10 Batch 4:  Cost = 0.7087218165397644 - Validation Accuracy = 0.603600025177002\n",
      "Epoch 44, CIFAR-10 Batch 5:  Cost = 0.6300305128097534 - Validation Accuracy = 0.593999981880188\n",
      "Epoch 45, CIFAR-10 Batch 1:  Cost = 0.7155495285987854 - Validation Accuracy = 0.6065999865531921\n",
      "Epoch 45, CIFAR-10 Batch 2:  Cost = 0.6137944459915161 - Validation Accuracy = 0.6025999784469604\n",
      "Epoch 45, CIFAR-10 Batch 3:  Cost = 0.5372681021690369 - Validation Accuracy = 0.6074000000953674\n",
      "Epoch 45, CIFAR-10 Batch 4:  Cost = 0.6964739561080933 - Validation Accuracy = 0.6014000177383423\n",
      "Epoch 45, CIFAR-10 Batch 5:  Cost = 0.6137521862983704 - Validation Accuracy = 0.5965999960899353\n",
      "Epoch 46, CIFAR-10 Batch 1:  Cost = 0.7397472262382507 - Validation Accuracy = 0.6021999716758728\n",
      "Epoch 46, CIFAR-10 Batch 2:  Cost = 0.6106721758842468 - Validation Accuracy = 0.6000000238418579\n",
      "Epoch 46, CIFAR-10 Batch 3:  Cost = 0.5245299935340881 - Validation Accuracy = 0.6083999872207642\n",
      "Epoch 46, CIFAR-10 Batch 4:  Cost = 0.6761726140975952 - Validation Accuracy = 0.6019999980926514\n",
      "Epoch 46, CIFAR-10 Batch 5:  Cost = 0.6334454417228699 - Validation Accuracy = 0.5983999967575073\n",
      "Epoch 47, CIFAR-10 Batch 1:  Cost = 0.7272981405258179 - Validation Accuracy = 0.597000002861023\n",
      "Epoch 47, CIFAR-10 Batch 2:  Cost = 0.6120561361312866 - Validation Accuracy = 0.6039999723434448\n",
      "Epoch 47, CIFAR-10 Batch 3:  Cost = 0.5467994809150696 - Validation Accuracy = 0.6087999939918518\n",
      "Epoch 47, CIFAR-10 Batch 4:  Cost = 0.6748716235160828 - Validation Accuracy = 0.6033999919891357\n",
      "Epoch 47, CIFAR-10 Batch 5:  Cost = 0.6017458438873291 - Validation Accuracy = 0.6018000245094299\n",
      "Epoch 48, CIFAR-10 Batch 1:  Cost = 0.7029512524604797 - Validation Accuracy = 0.6011999845504761\n",
      "Epoch 48, CIFAR-10 Batch 2:  Cost = 0.6217605471611023 - Validation Accuracy = 0.605400025844574\n",
      "Epoch 48, CIFAR-10 Batch 3:  Cost = 0.5289674997329712 - Validation Accuracy = 0.609000027179718\n",
      "Epoch 48, CIFAR-10 Batch 4:  Cost = 0.6846746206283569 - Validation Accuracy = 0.6046000123023987\n",
      "Epoch 48, CIFAR-10 Batch 5:  Cost = 0.6197078824043274 - Validation Accuracy = 0.5961999893188477\n",
      "Epoch 49, CIFAR-10 Batch 1:  Cost = 0.7142351269721985 - Validation Accuracy = 0.6039999723434448\n",
      "Epoch 49, CIFAR-10 Batch 2:  Cost = 0.5885201692581177 - Validation Accuracy = 0.6007999777793884\n",
      "Epoch 49, CIFAR-10 Batch 3:  Cost = 0.5245254635810852 - Validation Accuracy = 0.605400025844574\n",
      "Epoch 49, CIFAR-10 Batch 4:  Cost = 0.682405948638916 - Validation Accuracy = 0.6025999784469604\n",
      "Epoch 49, CIFAR-10 Batch 5:  Cost = 0.6410293579101562 - Validation Accuracy = 0.5961999893188477\n",
      "Epoch 50, CIFAR-10 Batch 1:  Cost = 0.7269455194473267 - Validation Accuracy = 0.6087999939918518\n",
      "Epoch 50, CIFAR-10 Batch 2:  Cost = 0.5989999175071716 - Validation Accuracy = 0.6032000184059143\n",
      "Epoch 50, CIFAR-10 Batch 3:  Cost = 0.5305445790290833 - Validation Accuracy = 0.6037999987602234\n",
      "Epoch 50, CIFAR-10 Batch 4:  Cost = 0.672696590423584 - Validation Accuracy = 0.6055999994277954\n",
      "Epoch 50, CIFAR-10 Batch 5:  Cost = 0.6063250303268433 - Validation Accuracy = 0.6065999865531921\n"
     ]
    }
   ],
   "source": [
    "\"\"\"\n",
    "DON'T MODIFY ANYTHING IN THIS CELL\n",
    "\"\"\"\n",
    "save_model_path = './image_classification'\n",
    "\n",
    "print('Training...')\n",
    "with tf.Session() as sess:\n",
    "    # Initializing the variables\n",
    "    sess.run(tf.global_variables_initializer())\n",
    "    \n",
    "    # Training cycle\n",
    "    for epoch in range(epochs):\n",
    "        # Loop over all batches\n",
    "        n_batches = 5\n",
    "        for batch_i in range(1, n_batches + 1):\n",
    "            for batch_features, batch_labels in helper.load_preprocess_training_batch(batch_i, batch_size):\n",
    "                train_neural_network(sess, optimizer, keep_probability, batch_features, batch_labels)\n",
    "            print('Epoch {:>2}, CIFAR-10 Batch {}:  '.format(epoch + 1, batch_i), end='')\n",
    "            print_stats(sess, batch_features, batch_labels, cost, accuracy)\n",
    "            \n",
    "    # Save Model\n",
    "    saver = tf.train.Saver()\n",
    "    save_path = saver.save(sess, save_model_path)"
   ]
  },
  {
   "cell_type": "markdown",
   "metadata": {},
   "source": [
    "# Checkpoint\n",
    "The model has been saved to disk.\n",
    "## Test Model\n",
    "Test your model against the test dataset.  This will be your final accuracy. You should have an accuracy greater than 50%. If you don't, keep tweaking the model architecture and parameters."
   ]
  },
  {
   "cell_type": "code",
   "execution_count": 31,
   "metadata": {},
   "outputs": [
    {
     "name": "stdout",
     "output_type": "stream",
     "text": [
      "INFO:tensorflow:Restoring parameters from ./image_classification\n",
      "Testing Accuracy: 0.607693829113924\n",
      "\n"
     ]
    },
    {
     "data": {
      "image/png": "[encoded data removed]",
      "text/plain": [
       "<matplotlib.figure.Figure at 0x7f894db3ce10>"
      ]
     },
     "metadata": {
      "image/png": {
       "height": 319,
       "width": 355
      }
     },
     "output_type": "display_data"
    }
   ],
   "source": [
    "\"\"\"\n",
    "DON'T MODIFY ANYTHING IN THIS CELL\n",
    "\"\"\"\n",
    "%matplotlib inline\n",
    "%config InlineBackend.figure_format = 'retina'\n",
    "\n",
    "import tensorflow as tf\n",
    "import pickle\n",
    "import helper\n",
    "import random\n",
    "\n",
    "# Set batch size if not already set\n",
    "try:\n",
    "    if batch_size:\n",
    "        pass\n",
    "except NameError:\n",
    "    batch_size = 64\n",
    "\n",
    "save_model_path = './image_classification'\n",
    "n_samples = 4\n",
    "top_n_predictions = 3\n",
    "\n",
    "def test_model():\n",
    "    \"\"\"\n",
    "    Test the saved model against the test dataset\n",
    "    \"\"\"\n",
    "\n",
    "    test_features, test_labels = pickle.load(open('preprocess_test.p', mode='rb'))\n",
    "    loaded_graph = tf.Graph()\n",
    "\n",
    "    with tf.Session(graph=loaded_graph) as sess:\n",
    "        # Load model\n",
    "        loader = tf.train.import_meta_graph(save_model_path + '.meta')\n",
    "        loader.restore(sess, save_model_path)\n",
    "\n",
    "        # Get Tensors from loaded model\n",
    "        loaded_x = loaded_graph.get_tensor_by_name('x:0')\n",
    "        loaded_y = loaded_graph.get_tensor_by_name('y:0')\n",
    "        loaded_keep_prob = loaded_graph.get_tensor_by_name('keep_prob:0')\n",
    "        loaded_logits = loaded_graph.get_tensor_by_name('logits:0')\n",
    "        loaded_acc = loaded_graph.get_tensor_by_name('accuracy:0')\n",
    "        \n",
    "        # Get accuracy in batches for memory limitations\n",
    "        test_batch_acc_total = 0\n",
    "        test_batch_count = 0\n",
    "        \n",
    "        for test_feature_batch, test_label_batch in helper.batch_features_labels(test_features, test_labels, batch_size):\n",
    "            test_batch_acc_total += sess.run(\n",
    "                loaded_acc,\n",
    "                feed_dict={loaded_x: test_feature_batch, loaded_y: test_label_batch, loaded_keep_prob: 1.0})\n",
    "            test_batch_count += 1\n",
    "\n",
    "        print('Testing Accuracy: {}\\n'.format(test_batch_acc_total/test_batch_count))\n",
    "\n",
    "        # Print Random Samples\n",
    "        random_test_features, random_test_labels = tuple(zip(*random.sample(list(zip(test_features, test_labels)), n_samples)))\n",
    "        random_test_predictions = sess.run(\n",
    "            tf.nn.top_k(tf.nn.softmax(loaded_logits), top_n_predictions),\n",
    "            feed_dict={loaded_x: random_test_features, loaded_y: random_test_labels, loaded_keep_prob: 1.0})\n",
    "        helper.display_image_predictions(random_test_features, random_test_labels, random_test_predictions)\n",
    "\n",
    "\n",
    "test_model()"
   ]
  },
  {
   "cell_type": "markdown",
   "metadata": {},
   "source": [
    "## Why 50-80% Accuracy?\n",
    "You might be wondering why you can't get an accuracy any higher. First things first, 50% isn't bad for a simple CNN.  Pure guessing would get you 10% accuracy. However, you might notice people are getting scores [well above 80%](http://rodrigob.github.io/are_we_there_yet/build/classification_datasets_results.html#43494641522d3130).  That's because we haven't taught you all there is to know about neural networks. We still need to cover a few more techniques.\n",
    "## Submitting This Project\n",
    "When submitting this project, make sure to run all the cells before saving the notebook.  Save the notebook file as \"dlnd_image_classification.ipynb\" and save it as a HTML file under \"File\" -> \"Download as\".  Include the \"helper.py\" and \"problem_unittests.py\" files in your submission."
   ]
  }
 ],
 "metadata": {
  "anaconda-cloud": {},
  "kernelspec": {
   "display_name": "Python 3",
   "language": "python",
   "name": "python3"
  },
  "language_info": {
   "codemirror_mode": {
    "name": "ipython",
    "version": 3
   },
   "file_extension": ".py",
   "mimetype": "text/x-python",
   "name": "python",
   "nbconvert_exporter": "python",
   "pygments_lexer": "ipython3",
   "version": "3.5.3"
  }
 },
 "nbformat": 4,
 "nbformat_minor": 1
}
